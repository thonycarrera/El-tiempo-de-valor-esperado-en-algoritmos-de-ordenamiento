{
 "cells": [
  {
   "cell_type": "code",
   "execution_count": 12,
   "metadata": {},
   "outputs": [
    {
     "name": "stdout",
     "output_type": "stream",
     "text": [
      "Ingrese cuantos numeros aleatorios desea obtener\n",
      "100\n",
      "vector desordenado\n",
      "[2, 372, 512, 362, 242, 609, 316, 179, 213, 63, 668, 308, 937, 809, 205, 433, 720, 713, 386, 20, 884, 75, 707, 494, 240, 415, 797, 709, 659, 164, 823, 607, 205, 36, 302, 166, 650, 934, 1, 817, 20, 770, 557, 804, 136, 911, 966, 308, 201, 191, 216, 31, 836, 472, 443, 15, 266, 413, 577, 721, 742, 749, 715, 504, 39, 469, 371, 988, 153, 565, 330, 958, 128, 226, 138, 272, 708, 604, 42, 696, 253, 988, 852, 412, 607, 51, 323, 487, 612, 117, 388, 155, 938, 511, 837, 309, 280, 370, 510, 142]\n",
      "vector ordenado\n",
      "[1, 2, 15, 20, 20, 31, 36, 39, 42, 51, 63, 75, 117, 128, 136, 138, 142, 153, 155, 164, 166, 179, 191, 201, 205, 205, 213, 216, 226, 240, 242, 253, 266, 272, 280, 302, 308, 308, 309, 316, 323, 330, 362, 370, 371, 372, 386, 388, 412, 413, 415, 433, 443, 469, 472, 487, 494, 504, 510, 511, 512, 557, 565, 577, 604, 607, 607, 609, 612, 650, 659, 668, 696, 707, 708, 709, 713, 715, 720, 721, 742, 749, 770, 797, 804, 809, 817, 823, 836, 837, 852, 884, 911, 934, 937, 938, 958, 966, 988, 988]\n",
      "Tiempo esperado para Insertion_Sort =  3.4e-05\n"
     ]
    }
   ],
   "source": [
    "import random\n",
    "\n",
    "\n",
    "print(\"Ingrese cuantos numeros aleatorios desea obtener\")\n",
    "n=int(input())\n",
    "alist = [random.randint(0,1000) for _ in range(n)]\n",
    "print \"vector desordenado\"\n",
    "print(alist)\n",
    "\n",
    "def insertionSort(alist):\n",
    "    \n",
    "   for index in range(1,len(alist)):\n",
    "\n",
    "     currentvalue = alist[index]\n",
    "     position = index\n",
    "\n",
    "     while position>0 and alist[position-1]>currentvalue:\n",
    "         alist[position]=alist[position-1]\n",
    "         position = position-1\n",
    "\n",
    "     alist[position]=currentvalue\n",
    "\n",
    "insertionSort(alist)\n",
    "\n",
    "print \"vector ordenado\"\n",
    "print(alist)\n",
    "\n",
    "def test():\n",
    "    start = time.clock()\n",
    "    insertionSort(alist)\n",
    "    elapsed = (time.clock() - start)\n",
    "    print \"Tiempo esperado para Insertion_Sort = \", elapsed\n",
    "\n",
    "if __name__ == '__main__':\n",
    "    import time\n",
    "    test() "
   ]
  },
  {
   "cell_type": "code",
   "execution_count": null,
   "metadata": {},
   "outputs": [],
   "source": []
  },
  {
   "cell_type": "code",
   "execution_count": null,
   "metadata": {},
   "outputs": [],
   "source": []
  },
  {
   "cell_type": "code",
   "execution_count": null,
   "metadata": {},
   "outputs": [],
   "source": []
  }
 ],
 "metadata": {
  "kernelspec": {
   "display_name": "Python 2",
   "language": "python",
   "name": "python2"
  },
  "language_info": {
   "codemirror_mode": {
    "name": "ipython",
    "version": 2
   },
   "file_extension": ".py",
   "mimetype": "text/x-python",
   "name": "python",
   "nbconvert_exporter": "python",
   "pygments_lexer": "ipython2",
   "version": "2.7.15rc1"
  }
 },
 "nbformat": 4,
 "nbformat_minor": 2
}
