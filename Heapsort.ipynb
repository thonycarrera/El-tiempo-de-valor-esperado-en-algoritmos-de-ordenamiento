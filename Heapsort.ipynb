{
 "cells": [
  {
   "cell_type": "code",
   "execution_count": 13,
   "metadata": {
    "scrolled": true
   },
   "outputs": [
    {
     "name": "stdout",
     "output_type": "stream",
     "text": [
      "Ingrese cuantos numeros aleatorios desea obtener\n",
      "100\n",
      "vector desordenado\n",
      "[27, 465, 671, 842, 266, 473, 888, 870, 340, 357, 593, 514, 135, 977, 474, 306, 622, 84, 633, 299, 210, 269, 935, 191, 521, 449, 50, 217, 233, 583, 137, 392, 912, 290, 611, 314, 945, 126, 845, 335, 384, 227, 282, 315, 536, 243, 393, 426, 816, 572, 198, 154, 910, 791, 269, 694, 715, 147, 699, 165, 456, 565, 354, 148, 796, 654, 288, 486, 806, 622, 388, 568, 167, 972, 295, 318, 503, 376, 994, 714, 284, 722, 692, 937, 403, 194, 600, 509, 479, 619, 726, 664, 386, 147, 966, 199, 7, 453, 399, 191]\n",
      "el arreglo ordenado\n",
      "[7, 27, 50, 84, 126, 135, 137, 147, 147, 148, 154, 165, 167, 191, 191, 194, 198, 199, 210, 217, 227, 233, 243, 266, 269, 269, 282, 284, 288, 290, 295, 299, 306, 314, 315, 318, 335, 340, 354, 357, 376, 384, 386, 388, 392, 393, 399, 403, 426, 449, 453, 456, 465, 473, 474, 479, 486, 503, 509, 514, 521, 536, 565, 568, 572, 583, 593, 600, 611, 619, 622, 622, 633, 654, 664, 671, 692, 694, 699, 714, 715, 722, 726, 791, 796, 806, 816, 842, 845, 870, 888, 910, 912, 935, 937, 945, 966, 972, 977, 994]\n",
      "   0.0005391519907789188\n"
     ]
    }
   ],
   "source": [
    "#Álgoritmo de ordenación Heap sort\n",
    "\n",
    "\n",
    "import random\n",
    "\n",
    "\n",
    "print(\"Ingrese cuantos numeros aleatorios desea obtener\")\n",
    "n=int(input())\n",
    "arreglo = [random.randint(0,1000) for _ in range(n)]\n",
    "print (\"vector desordenado\")\n",
    "print(arreglo)\n",
    "\n",
    "def heapify(arreglo, n, i): \n",
    "    mayor = i \n",
    "    izquierda = 2 * i + 1  \n",
    "    derecha = 2 * i + 2  \n",
    " \n",
    "    if izquierda < n and arreglo[i] < arreglo[izquierda]: \n",
    "        mayor = izquierda\n",
    "\n",
    "    if derecha < n and arreglo[mayor] < arreglo[derecha]: \n",
    "        mayor = derecha \n",
    "\n",
    "    if mayor != i: \n",
    "        arreglo[i],arreglo[mayor] = arreglo[mayor],arreglo[i]\n",
    " \n",
    "        heapify(arreglo, n, mayor) \n",
    " \n",
    "def heapSort(arreglo): \n",
    "    n = len(arreglo) \n",
    "    \n",
    "    for i in range(n, -1, -1): \n",
    "        heapify(arreglo, n, i) \n",
    " \n",
    "    for i in range(n-1, 0, -1): \n",
    "        arreglo[i], arreglo[0] = arreglo[0], arreglo[i] \n",
    "        heapify(arreglo, i, 0) \n",
    "        \n",
    "print(\"el arreglo ordenado\")\n",
    "heapSort(arreglo)\n",
    "print(arreglo)\n",
    "\n",
    "def prueba():\n",
    "                    start = time.clock()\n",
    "                    heapSort(arreglo)\n",
    "                    elapsed = (time.clock() - start)\n",
    "                    print (\"  \", elapsed)\n",
    "\n",
    "if __name__ == '__main__':\n",
    "    import time\n",
    "    prueba()\n",
    "\n"
   ]
  },
  {
   "cell_type": "code",
   "execution_count": null,
   "metadata": {},
   "outputs": [],
   "source": []
  },
  {
   "cell_type": "markdown",
   "metadata": {},
   "source": []
  },
  {
   "cell_type": "code",
   "execution_count": null,
   "metadata": {},
   "outputs": [],
   "source": []
  }
 ],
 "metadata": {
  "kernelspec": {
   "display_name": "Python 3",
   "language": "python",
   "name": "python3"
  },
  "language_info": {
   "codemirror_mode": {
    "name": "ipython",
    "version": 3
   },
   "file_extension": ".py",
   "mimetype": "text/x-python",
   "name": "python",
   "nbconvert_exporter": "python",
   "pygments_lexer": "ipython3",
   "version": "3.6.5"
  }
 },
 "nbformat": 4,
 "nbformat_minor": 2
}
