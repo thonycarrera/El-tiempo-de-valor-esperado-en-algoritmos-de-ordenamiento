{
 "cells": [
  {
   "cell_type": "code",
   "execution_count": 13,
   "metadata": {
    "scrolled": true
   },
   "outputs": [
    {
     "name": "stdout",
     "output_type": "stream",
     "text": [
      "El arreglo ordenado es\n",
      "[11, 12, 13, 39, 45, 62, 63, 71, 77, 168, 243, 254, 332, 473, 534, 888, 980, 1020, 8998, 43442]\n",
      "Tiempo esperado para heapSort   5.077679685427938e-05\n"
     ]
    }
   ],
   "source": [
    "#Álgoritmo de ordenación HeapSort\n",
    "\n",
    "def heapify(arreglo, n, i): \n",
    "    mayor = i \n",
    "    izquierda = 2 * i + 1  \n",
    "    derecha = 2 * i + 2  \n",
    " \n",
    "    if izquierda < n and arreglo[i] < arreglo[izquierda]: \n",
    "        mayor = izquierda\n",
    "\n",
    "    if derecha < n and arreglo[mayor] < arreglo[derecha]: \n",
    "        mayor = derecha \n",
    "\n",
    "    if mayor != i: \n",
    "        arreglo[i],arreglo[mayor] = arreglo[mayor],arreglo[i]\n",
    " \n",
    "        heapify(arreglo, n, mayor) \n",
    " \n",
    "def heapSort(arreglo): \n",
    "    n = len(arreglo) \n",
    "    \n",
    "    for i in range(n, -1, -1): \n",
    "        heapify(arreglo, n, i) \n",
    " \n",
    "    for i in range(n-1, 0, -1): \n",
    "        arreglo[i], arreglo[0] = arreglo[0], arreglo[i] \n",
    "        heapify(arreglo, i, 0) \n",
    "        \n",
    "arreglo = [45,62,39,71,63,13,168,888,473,43442,254,534,12,332,243,980,11,8998,1020,77]\n",
    "heapSort(arreglo)\n",
    "print (\"El arreglo ordenado es\")\n",
    "print(arreglo)\n",
    "\n",
    "def prueba():\n",
    "                    start = time.clock()\n",
    "                    heapSort(arreglo)\n",
    "                    elapsed = (time.clock() - start)\n",
    "                    print (\"  \", elapsed)\n",
    "\n",
    "if __name__ == '__main__':\n",
    "    import time\n",
    "    prueba()\n",
    "\n"
   ]
  },
  {
   "cell_type": "code",
   "execution_count": null,
   "metadata": {},
   "outputs": [],
   "source": []
  },
  {
   "cell_type": "code",
   "execution_count": null,
   "metadata": {},
   "outputs": [],
   "source": []
  },
  {
   "cell_type": "code",
   "execution_count": null,
   "metadata": {},
   "outputs": [],
   "source": []
  }
 ],
 "metadata": {
  "kernelspec": {
   "display_name": "Python 3",
   "language": "python",
   "name": "python3"
  },
  "language_info": {
   "codemirror_mode": {
    "name": "ipython",
    "version": 3
   },
   "file_extension": ".py",
   "mimetype": "text/x-python",
   "name": "python",
   "nbconvert_exporter": "python",
   "pygments_lexer": "ipython3",
   "version": "3.6.5"
  }
 },
 "nbformat": 4,
 "nbformat_minor": 2
}
