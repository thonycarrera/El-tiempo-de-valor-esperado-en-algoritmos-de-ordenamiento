{
 "cells": [
  {
   "cell_type": "code",
   "execution_count": 20,
   "metadata": {},
   "outputs": [
    {
     "name": "stdout",
     "output_type": "stream",
     "text": [
      "El arreglo ordenado es:\n",
      "[17, 20, 26, 31, 33, 44, 54, 55, 63, 77, 93, 533, 644, 774, 856, 4324, 4411, 4434, 6465, 67456]\n",
      "   3.8082597628088875e-05\n"
     ]
    }
   ],
   "source": [
    "#Álgoritmo de ordenación Selection Sort\n",
    "\n",
    "def selectionSort(arreglo):\n",
    "   for llenar_ranura in range(len(arreglo)-1,0,-1):\n",
    "       posición_de_máximo=0\n",
    "       for locación in range(1,llenar_ranura+1):\n",
    "           if arreglo[locación]>arreglo[posición_de_máximo]:\n",
    "               posición_de_máximo = locación\n",
    "\n",
    "       aux = arreglo[llenar_ranura]\n",
    "       arreglo[llenar_ranura] = arreglo[posición_de_máximo]\n",
    "       arreglo[posición_de_máximo] =aux \n",
    "\n",
    "print(\"El arreglo ordenado es:\")\n",
    "arreglo = [54,26,93,17,77,31,55,20,4324,67456,4434,44,4411,856,644,533,63,774,6465,33]\n",
    "selectionSort(arreglo)\n",
    "print(arreglo)\n",
    "\n",
    "def prueba():\n",
    "                    start = time.clock()\n",
    "                    selectionSort(arreglo)\n",
    "                    elapsed = (time.clock() - start)\n",
    "                    print (\"  \", elapsed)\n",
    "\n",
    "if __name__ == '__main__':\n",
    "    import time\n",
    "    prueba()"
   ]
  },
  {
   "cell_type": "code",
   "execution_count": null,
   "metadata": {},
   "outputs": [],
   "source": []
  },
  {
   "cell_type": "code",
   "execution_count": null,
   "metadata": {},
   "outputs": [],
   "source": []
  },
  {
   "cell_type": "code",
   "execution_count": null,
   "metadata": {},
   "outputs": [],
   "source": []
  },
  {
   "cell_type": "code",
   "execution_count": null,
   "metadata": {},
   "outputs": [],
   "source": []
  },
  {
   "cell_type": "code",
   "execution_count": null,
   "metadata": {},
   "outputs": [],
   "source": []
  }
 ],
 "metadata": {
  "kernelspec": {
   "display_name": "Python 3",
   "language": "python",
   "name": "python3"
  },
  "language_info": {
   "codemirror_mode": {
    "name": "ipython",
    "version": 3
   },
   "file_extension": ".py",
   "mimetype": "text/x-python",
   "name": "python",
   "nbconvert_exporter": "python",
   "pygments_lexer": "ipython3",
   "version": "3.6.5"
  }
 },
 "nbformat": 4,
 "nbformat_minor": 2
}
