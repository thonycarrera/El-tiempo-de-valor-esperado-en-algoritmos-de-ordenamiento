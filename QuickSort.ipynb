{
 "cells": [
  {
   "cell_type": "code",
   "execution_count": 14,
   "metadata": {},
   "outputs": [
    {
     "name": "stdout",
     "output_type": "stream",
     "text": [
      "[15, 26, 93, 17, 77, 923, 44, 1, 20, 89, 950, 32, 18, 122, 9, 14, 190]\n",
      "Tiempo esperado para Quick_Sort =  6.631619089603191e-05\n"
     ]
    }
   ],
   "source": [
    "def quick_sort(vector):\n",
    "     if not vector:\n",
    "        return []\n",
    "     else:\n",
    "        pivote = vector[-1]\n",
    "        menor = [x for x in vector     if x <  pivote]\n",
    "        mas_grande = [x for x in vector[:-1] if x >= pivote]\n",
    "        return quick_sort(menor) + [pivote] + quick_sort(mas_grande)\n",
    "    \n",
    "vec = [15,26,93,17,77,923,44,1,20,89,950,32,18,122,9,14,190]\n",
    "quick_sort(vec)\n",
    "print(vec)\n",
    "\n",
    "def test():\n",
    "    start = time.clock()\n",
    "    quick_sort(vec)\n",
    "    elapsed = (time.clock() - start)\n",
    "    print(\"Tiempo esperado para Quick_Sort = \" , elapsed)\n",
    "\n",
    "if __name__ == '__main__':\n",
    "    import time\n",
    "test() \n"
   ]
  },
  {
   "cell_type": "code",
   "execution_count": null,
   "metadata": {},
   "outputs": [],
   "source": []
  },
  {
   "cell_type": "code",
   "execution_count": null,
   "metadata": {},
   "outputs": [],
   "source": []
  },
  {
   "cell_type": "code",
   "execution_count": null,
   "metadata": {},
   "outputs": [],
   "source": []
  }
 ],
 "metadata": {
  "kernelspec": {
   "display_name": "Python 3",
   "language": "python",
   "name": "python3"
  },
  "language_info": {
   "codemirror_mode": {
    "name": "ipython",
    "version": 3
   },
   "file_extension": ".py",
   "mimetype": "text/x-python",
   "name": "python",
   "nbconvert_exporter": "python",
   "pygments_lexer": "ipython3",
   "version": "3.6.5"
  }
 },
 "nbformat": 4,
 "nbformat_minor": 2
}
