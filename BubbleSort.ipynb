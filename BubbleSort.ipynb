{
 "cells": [
  {
   "cell_type": "code",
   "execution_count": 13,
   "metadata": {},
   "outputs": [
    {
     "name": "stdout",
     "output_type": "stream",
     "text": [
      "[1, 9, 14, 15, 17, 26, 32, 44, 77, 89, 93, 122, 168, 190, 223, 456, 923, 950, 6777]\n",
      "Tiempo esperado para Bubble_Sort =  5.526349241335993e-06\n"
     ]
    }
   ],
   "source": [
    "\n",
    "def bubble_sort(vector):\n",
    "    permutation = True\n",
    "    iteración = 0\n",
    "    while permutation == True:\n",
    "        permutation = False\n",
    "        iteración = iteración + 1\n",
    "        for actual in range(0, len(vector) - iteración):\n",
    "            if vector[actual] > vector[actual + 1]:\n",
    "                permutation = True\n",
    "                # Intercambiamos los dos elementos\n",
    "                vector[actual], vector[actual + 1] = \\\n",
    "                vector[actual + 1],vector[actual]\n",
    "    return vector  \n",
    "vector = [15,26,93,17,77,923,44,1,223,89,950,32,168,122,9,14,190,456,6777]\n",
    "bubble_sort(vector)\n",
    "print(vector)\n",
    "\n",
    "def test():\n",
    "    start = time.clock()\n",
    "    bubble_sort(vector)\n",
    "    elapsed = (time.clock() - start)\n",
    "    print(\"Tiempo esperado para Bubble_Sort = \", elapsed)\n",
    "\n",
    "if __name__ == '__main__':\n",
    "    import time\n",
    "test() \n",
    "\n"
   ]
  },
  {
   "cell_type": "code",
   "execution_count": null,
   "metadata": {},
   "outputs": [],
   "source": []
  },
  {
   "cell_type": "code",
   "execution_count": null,
   "metadata": {},
   "outputs": [],
   "source": []
  },
  {
   "cell_type": "code",
   "execution_count": null,
   "metadata": {},
   "outputs": [],
   "source": []
  }
 ],
 "metadata": {
  "kernelspec": {
   "display_name": "Python 3",
   "language": "python",
   "name": "python3"
  },
  "language_info": {
   "codemirror_mode": {
    "name": "ipython",
    "version": 3
   },
   "file_extension": ".py",
   "mimetype": "text/x-python",
   "name": "python",
   "nbconvert_exporter": "python",
   "pygments_lexer": "ipython3",
   "version": "3.6.5"
  }
 },
 "nbformat": 4,
 "nbformat_minor": 2
}
