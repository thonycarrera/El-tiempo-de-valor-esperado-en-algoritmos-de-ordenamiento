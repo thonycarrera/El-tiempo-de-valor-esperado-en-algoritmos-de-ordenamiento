{
 "cells": [
  {
   "cell_type": "code",
   "execution_count": 1,
   "metadata": {},
   "outputs": [
    {
     "name": "stdout",
     "output_type": "stream",
     "text": [
      "vector ordenado\n",
      "[12, 17, 20, 26, 31, 34, 44, 54, 55, 55, 77, 78, 93, 234, 235, 243, 332, 987, 3443, 23222]\n",
      "Tiempo esperado para Insertion_Sort =  0.00021\n"
     ]
    }
   ],
   "source": [
    "def insertionSort(alist):\n",
    "    \n",
    "   for index in range(1,len(alist)):\n",
    "\n",
    "     currentvalue = alist[index]\n",
    "     position = index\n",
    "\n",
    "     while position>0 and alist[position-1]>currentvalue:\n",
    "         alist[position]=alist[position-1]\n",
    "         position = position-1\n",
    "\n",
    "     alist[position]=currentvalue\n",
    "\n",
    "alist = [54,26,93,17,77,31,44,55,20,23222,234,235,12,332,243,987,34,3443,55,78]\n",
    "insertionSort(alist)\n",
    "print \"vector ordenado\"\n",
    "print(alist)\n",
    "\n",
    "def test():\n",
    "    start = time.clock()\n",
    "    insertionSort(alist)\n",
    "    elapsed = (time.clock() - start)\n",
    "    print \"Tiempo esperado para Insertion_Sort = \", elapsed\n",
    "\n",
    "if __name__ == '__main__':\n",
    "    import time\n",
    "    test() "
   ]
  },
  {
   "cell_type": "code",
   "execution_count": null,
   "metadata": {},
   "outputs": [],
   "source": []
  },
  {
   "cell_type": "code",
   "execution_count": null,
   "metadata": {},
   "outputs": [],
   "source": []
  },
  {
   "cell_type": "code",
   "execution_count": null,
   "metadata": {},
   "outputs": [],
   "source": []
  }
 ],
 "metadata": {
  "kernelspec": {
   "display_name": "Python 2",
   "language": "python",
   "name": "python2"
  },
  "language_info": {
   "codemirror_mode": {
    "name": "ipython",
    "version": 2
   },
   "file_extension": ".py",
   "mimetype": "text/x-python",
   "name": "python",
   "nbconvert_exporter": "python",
   "pygments_lexer": "ipython2",
   "version": "2.7.15rc1"
  }
 },
 "nbformat": 4,
 "nbformat_minor": 2
}
