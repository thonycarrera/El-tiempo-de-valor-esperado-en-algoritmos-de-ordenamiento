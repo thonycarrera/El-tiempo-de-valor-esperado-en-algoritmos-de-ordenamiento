{
 "cells": [
  {
   "cell_type": "code",
   "execution_count": 3,
   "metadata": {},
   "outputs": [
    {
     "name": "stdout",
     "output_type": "stream",
     "text": [
      "Ingrese cuantos numeros aleatorios desea obtener\n",
      "10\n",
      "vector desordenado\n",
      "[363, 380, 15, 326, 455, 89, 230, 700, 813, 344]\n",
      "vector desordenado\n",
      "[15, 89, 230, 326, 344, 363, 380, 455, 700, 813]\n",
      "Tiempo esperado para Bubble_Sort =  1.7368526187055977e-05\n"
     ]
    }
   ],
   "source": [
    "import random\n",
    "\n",
    "print(\"Ingrese cuantos numeros aleatorios desea obtener\")\n",
    "n=int(input())\n",
    "vector = [random.randint(0,1000) for _ in range(n)]\n",
    "print (\"vector desordenado\")\n",
    "print(vector)\n",
    "\n",
    "def bubble_sort(vector):\n",
    "    permutation = True\n",
    "    iteración = 0\n",
    "    while permutation == True:\n",
    "        permutation = False\n",
    "        iteración = iteración + 1\n",
    "        for actual in range(0, len(vector) - iteración):\n",
    "            if vector[actual] > vector[actual + 1]:\n",
    "                permutation = True\n",
    "                # Intercambiamos los dos elementos\n",
    "                vector[actual], vector[actual + 1] = vector[actual + 1],vector[actual]\n",
    "    return vector  \n",
    "\n",
    "bubble_sort(vector)\n",
    "print (\"vector desordenado\")\n",
    "print(vector)\n",
    "\n",
    "def test():\n",
    "    start = time.clock()\n",
    "    bubble_sort(vector)\n",
    "    elapsed = (time.clock() - start)\n",
    "    print(\"Tiempo esperado para Bubble_Sort = \", elapsed)\n",
    "\n",
    "if __name__ == '__main__':\n",
    "    import time\n",
    "test() \n"
   ]
  },
  {
   "cell_type": "code",
   "execution_count": null,
   "metadata": {},
   "outputs": [],
   "source": []
  }
 ],
 "metadata": {
  "kernelspec": {
   "display_name": "Python 3",
   "language": "python",
   "name": "python3"
  },
  "language_info": {
   "codemirror_mode": {
    "name": "ipython",
    "version": 3
   },
   "file_extension": ".py",
   "mimetype": "text/x-python",
   "name": "python",
   "nbconvert_exporter": "python",
   "pygments_lexer": "ipython3",
   "version": "3.6.5"
  }
 },
 "nbformat": 4,
 "nbformat_minor": 2
}
