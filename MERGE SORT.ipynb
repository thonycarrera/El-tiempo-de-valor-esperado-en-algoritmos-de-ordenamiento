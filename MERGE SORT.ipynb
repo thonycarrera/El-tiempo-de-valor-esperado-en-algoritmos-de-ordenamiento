{
 "cells": [
  {
   "cell_type": "code",
   "execution_count": 13,
   "metadata": {},
   "outputs": [
    {
     "name": "stdout",
     "output_type": "stream",
     "text": [
      "Ingrese cuantos numeros aleatorios desea obtener\n",
      "100\n",
      "vector desordenado\n",
      "[374, 83, 816, 271, 642, 480, 644, 884, 155, 859, 155, 990, 488, 428, 193, 643, 363, 590, 788, 407, 693, 403, 636, 846, 973, 679, 136, 416, 518, 738, 105, 626, 514, 726, 10, 6, 199, 131, 572, 575, 721, 524, 709, 617, 958, 162, 568, 53, 194, 271, 691, 453, 852, 904, 308, 364, 434, 574, 292, 597, 268, 298, 479, 875, 802, 216, 4, 941, 49, 495, 105, 987, 571, 588, 225, 397, 321, 606, 971, 892, 451, 622, 548, 272, 831, 610, 355, 36, 696, 601, 535, 991, 815, 334, 762, 959, 715, 293, 364, 109]\n",
      "\n",
      "Vector ordenado\n",
      "4 6 10 36 49 53 83 105 105 109 131 136 155 155 162 193 194 199 216 225 268 271 271 272 292 293 298 308 321 334 355 363 364 364 374 397 403 407 416 428 434 451 453 479 480 488 495 514 518 524 535 548 568 571 572 574 575 588 590 597 601 606 610 617 622 626 636 642 643 644 679 691 693 696 709 715 721 726 738 762 788 802 815 816 831 846 852 859 875 884 892 904 941 958 959 971 973 987 990 991 \n",
      "\n",
      "Tiempo esperado para Merge_Sort =  0.000491\n"
     ]
    }
   ],
   "source": [
    "import random\n",
    "\n",
    "print(\"Ingrese cuantos numeros aleatorios desea obtener\")\n",
    "n=int(input())\n",
    "alist = [random.randint(0,1000) for _ in range(n)]\n",
    "print \"vector desordenado\"\n",
    "print(alist)\n",
    "\n",
    "def merge(arr, l, m, r): \n",
    "    n1 = m - l + 1\n",
    "    n2 = r- m \n",
    "  \n",
    "    # create temp arrays \n",
    "    L = [0] * (n1) \n",
    "    R = [0] * (n2) \n",
    "  \n",
    "    \n",
    "    for i in range(0 , n1): \n",
    "        L[i] = arr[l + i] \n",
    "  \n",
    "    for j in range(0 , n2): \n",
    "        R[j] = arr[m + 1 + j] \n",
    "  \n",
    "    i = 0     \n",
    "    j = 0     \n",
    "    k = l     \n",
    "  \n",
    "    while i < n1 and j < n2 : \n",
    "        if L[i] <= R[j]: \n",
    "            arr[k] = L[i] \n",
    "            i += 1\n",
    "        else: \n",
    "            arr[k] = R[j] \n",
    "            j += 1\n",
    "        k += 1\n",
    "  \n",
    "    while i < n1: \n",
    "        arr[k] = L[i] \n",
    "        i += 1\n",
    "        k += 1\n",
    "\n",
    "    while j < n2: \n",
    "        arr[k] = R[j] \n",
    "        j += 1\n",
    "        k += 1\n",
    "  \n",
    "def mergeSort(arr,l,r): \n",
    "    if l < r: \n",
    "        m = (l+(r-1))/2\n",
    "        mergeSort(arr, l, m) \n",
    "        mergeSort(arr, m+1, r) \n",
    "        merge(arr, l, m, r) \n",
    "\n",
    "arr = alist \n",
    "n = len(arr)\n",
    "  \n",
    "mergeSort(arr,0,n-1) \n",
    "print (\"\\nVector ordenado\") \n",
    "for i in range(n): \n",
    "    print (\"%d\" %arr[i]),\n",
    "    \n",
    "def test():\n",
    "    start = time.clock()\n",
    "    mergeSort(arr,0,n-1) \n",
    "    elapsed = (time.clock() - start)\n",
    "    print \"\\n\\nTiempo esperado para Merge_Sort = \", elapsed\n",
    "\n",
    "if __name__ == '__main__':\n",
    "    import time\n",
    "    test() "
   ]
  },
  {
   "cell_type": "code",
   "execution_count": null,
   "metadata": {},
   "outputs": [],
   "source": []
  },
  {
   "cell_type": "code",
   "execution_count": null,
   "metadata": {},
   "outputs": [],
   "source": []
  },
  {
   "cell_type": "code",
   "execution_count": null,
   "metadata": {},
   "outputs": [],
   "source": []
  }
 ],
 "metadata": {
  "kernelspec": {
   "display_name": "Python 2",
   "language": "python",
   "name": "python2"
  },
  "language_info": {
   "codemirror_mode": {
    "name": "ipython",
    "version": 2
   },
   "file_extension": ".py",
   "mimetype": "text/x-python",
   "name": "python",
   "nbconvert_exporter": "python",
   "pygments_lexer": "ipython2",
   "version": "2.7.15rc1"
  }
 },
 "nbformat": 4,
 "nbformat_minor": 2
}
