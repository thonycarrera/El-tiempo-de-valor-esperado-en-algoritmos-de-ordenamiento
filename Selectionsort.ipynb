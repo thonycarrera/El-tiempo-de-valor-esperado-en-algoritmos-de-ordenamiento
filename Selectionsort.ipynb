{
 "cells": [
  {
   "cell_type": "code",
   "execution_count": 12,
   "metadata": {},
   "outputs": [
    {
     "name": "stdout",
     "output_type": "stream",
     "text": [
      "Ingrese cuantos numeros aleatorios desea obtener\n",
      "100\n",
      "vector desordenado\n",
      "[458, 15, 890, 482, 531, 637, 113, 266, 368, 480, 841, 595, 770, 605, 589, 132, 767, 709, 500, 529, 659, 896, 869, 158, 477, 461, 962, 588, 344, 421, 222, 620, 578, 390, 849, 528, 314, 577, 414, 327, 118, 291, 642, 322, 134, 389, 569, 103, 263, 863, 449, 827, 86, 366, 191, 46, 860, 822, 780, 983, 344, 653, 341, 386, 536, 745, 56, 356, 961, 115, 733, 839, 321, 324, 133, 337, 92, 135, 917, 114, 782, 886, 130, 675, 166, 65, 433, 293, 320, 372, 574, 431, 741, 24, 501, 96, 138, 206, 865, 896]\n",
      "El arreglo ordenado es:\n",
      "[15, 24, 46, 56, 65, 86, 92, 96, 103, 113, 114, 115, 118, 130, 132, 133, 134, 135, 138, 158, 166, 191, 206, 222, 263, 266, 291, 293, 314, 320, 321, 322, 324, 327, 337, 341, 344, 344, 356, 366, 368, 372, 386, 389, 390, 414, 421, 431, 433, 449, 458, 461, 477, 480, 482, 500, 501, 528, 529, 531, 536, 569, 574, 577, 578, 588, 589, 595, 605, 620, 637, 642, 653, 659, 675, 709, 733, 741, 745, 767, 770, 780, 782, 822, 827, 839, 841, 849, 860, 863, 865, 869, 886, 890, 896, 896, 917, 961, 962, 983]\n",
      "   0.0006075597643757646\n"
     ]
    }
   ],
   "source": [
    "#Álgoritmo de ordenación Selection Sort\n",
    "\n",
    "\n",
    "import random\n",
    "\n",
    "\n",
    "print(\"Ingrese cuantos numeros aleatorios desea obtener\")\n",
    "n=int(input())\n",
    "arreglo = [random.randint(0,1000) for _ in range(n)]\n",
    "print (\"vector desordenado\")\n",
    "print(arreglo)\n",
    "\n",
    "\n",
    "def selectionSort(arreglo):\n",
    "   for llenar_ranura in range(len(arreglo)-1,0,-1):\n",
    "       posición_de_máximo=0\n",
    "       for locación in range(1,llenar_ranura+1):\n",
    "           if arreglo[locación]>arreglo[posición_de_máximo]:\n",
    "               posición_de_máximo = locación\n",
    "\n",
    "       aux = arreglo[llenar_ranura]\n",
    "       arreglo[llenar_ranura] = arreglo[posición_de_máximo]\n",
    "       arreglo[posición_de_máximo] =aux \n",
    "\n",
    "print(\"El arreglo ordenado es:\")\n",
    "\n",
    "selectionSort(arreglo)\n",
    "print(arreglo)\n",
    "\n",
    "\n",
    "def prueba():\n",
    "                    start = time.clock()\n",
    "                    selectionSort(arreglo)\n",
    "                    elapsed = (time.clock() - start)\n",
    "                    print (\"  \", elapsed)\n",
    "\n",
    "if __name__ == '__main__':\n",
    "    import time\n",
    "    prueba()"
   ]
  },
  {
   "cell_type": "code",
   "execution_count": null,
   "metadata": {},
   "outputs": [],
   "source": []
  },
  {
   "cell_type": "code",
   "execution_count": null,
   "metadata": {},
   "outputs": [],
   "source": []
  }
 ],
 "metadata": {
  "kernelspec": {
   "display_name": "Python 3",
   "language": "python",
   "name": "python3"
  },
  "language_info": {
   "codemirror_mode": {
    "name": "ipython",
    "version": 3
   },
   "file_extension": ".py",
   "mimetype": "text/x-python",
   "name": "python",
   "nbconvert_exporter": "python",
   "pygments_lexer": "ipython3",
   "version": "3.6.5"
  }
 },
 "nbformat": 4,
 "nbformat_minor": 2
}
