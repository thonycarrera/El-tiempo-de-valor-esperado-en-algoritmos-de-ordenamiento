{
 "cells": [
  {
   "cell_type": "code",
   "execution_count": 7,
   "metadata": {},
   "outputs": [
    {
     "name": "stdout",
     "output_type": "stream",
     "text": [
      "[17, 18, 20, 26, 31, 32, 44, 54, 55, 77, 89, 90, 93, 122]\n"
     ]
    }
   ],
   "source": [
    "def insertionSort(vector):\n",
    "   for index in range(1,len(vector)):\n",
    "\n",
    "     currentvalue = vector[index]\n",
    "     position = index\n",
    "\n",
    "     while position>0 and vector[position-1]>currentvalue:\n",
    "         vector[position]=vector[position-1]\n",
    "         position = position-1\n",
    "\n",
    "     vector[position]=currentvalue\n",
    "\n",
    "vector = [54,26,93,17,77,31,44,55,20,89,90,32,18,122,9,14,190]\n",
    "insertionSort(alist)\n",
    "print(alist)\n"
   ]
  },
  {
   "cell_type": "code",
   "execution_count": null,
   "metadata": {},
   "outputs": [],
   "source": []
  },
  {
   "cell_type": "code",
   "execution_count": null,
   "metadata": {},
   "outputs": [],
   "source": []
  }
 ],
 "metadata": {
  "kernelspec": {
   "display_name": "Python 2",
   "language": "python",
   "name": "python2"
  },
  "language_info": {
   "codemirror_mode": {
    "name": "ipython",
    "version": 2
   },
   "file_extension": ".py",
   "mimetype": "text/x-python",
   "name": "python",
   "nbconvert_exporter": "python",
   "pygments_lexer": "ipython2",
   "version": "2.7.15rc1"
  }
 },
 "nbformat": 4,
 "nbformat_minor": 2
}
